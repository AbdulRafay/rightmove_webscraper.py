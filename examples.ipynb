{
 "cells": [
  {
   "cell_type": "markdown",
   "metadata": {},
   "source": [
    "## Python class to scrape property listings from the <a href=\"http://www.rightmove.co.uk\">rightmove</a> website"
   ]
  },
  {
   "cell_type": "code",
   "execution_count": 1,
   "metadata": {},
   "outputs": [],
   "source": [
    "from rightmove_webscraper import rightmove_data"
   ]
  },
  {
   "cell_type": "markdown",
   "metadata": {},
   "source": [
    "### Example scraping properties for sale\n",
    "\n",
    "URL returned from searching with the following criteria:\n",
    "\n",
    "* Property for SALE\n",
    "* Area = \"Battersea Power Station\"\n",
    "* Radius = within 3 miles\n",
    "* Price range, bedrooms = no min or max\n",
    "* Property type = Any\n",
    "* Added to site within =  last 7 days"
   ]
  },
  {
   "cell_type": "code",
   "execution_count": 2,
   "metadata": {},
   "outputs": [],
   "source": [
    "sale_url = \"http://www.rightmove.co.uk/property-for-sale/find.html?searchType=SALE\\\n",
    "&locationIdentifier=REGION%5E94346&insId=1\\\n",
    "&radius=3.0\\\n",
    "&minPrice=&maxPrice=\\\n",
    "&minBedrooms=&maxBedrooms=\\\n",
    "&displayPropertyType=\\\n",
    "&maxDaysSinceAdded=7\\\n",
    "&_includeSSTC=on\\\n",
    "&sortByPriceDescending=\\\n",
    "&primaryDisplayPropertyType=\\\n",
    "&secondaryDisplayPropertyType=\\\n",
    "&oldDisplayPropertyType=\\\n",
    "&oldPrimaryDisplayPropertyType=\\\n",
    "&newHome=\\\n",
    "&auction=false\""
   ]
  },
  {
   "cell_type": "code",
   "execution_count": 3,
   "metadata": {},
   "outputs": [
    {
     "data": {
      "text/plain": [
       "'SALE'"
      ]
     },
     "execution_count": 3,
     "metadata": {},
     "output_type": "execute_result"
    }
   ],
   "source": [
    "# Create the instance of the class on the search URL.\n",
    "sale_object = rightmove_data(sale_url)\n",
    "\n",
    "# The .rent_or_sale attribute tells you what type of properties the search URL is for.\n",
    "sale_object.rent_or_sale"
   ]
  },
  {
   "cell_type": "code",
   "execution_count": 4,
   "metadata": {},
   "outputs": [
    {
     "data": {
      "text/plain": [
       "216"
      ]
     },
     "execution_count": 4,
     "metadata": {},
     "output_type": "execute_result"
    }
   ],
   "source": [
    "# The .results_count attribute returns the number of search results returned by the URL.\n",
    "sale_object.results_count"
   ]
  },
  {
   "cell_type": "code",
   "execution_count": 5,
   "metadata": {},
   "outputs": [
    {
     "data": {
      "text/plain": [
       "9"
      ]
     },
     "execution_count": 5,
     "metadata": {},
     "output_type": "execute_result"
    }
   ],
   "source": [
    "# The .result_pages_count attribute returns the number of search pages returned by the URL.\n",
    "# Note that the rightmove website limits the number of results pages to a maximum of 42\n",
    "sale_object.result_pages_count"
   ]
  },
  {
   "cell_type": "code",
   "execution_count": 6,
   "metadata": {},
   "outputs": [
    {
     "data": {
      "text/html": [
       "<div>\n",
       "<style scoped>\n",
       "    .dataframe tbody tr th:only-of-type {\n",
       "        vertical-align: middle;\n",
       "    }\n",
       "\n",
       "    .dataframe tbody tr th {\n",
       "        vertical-align: top;\n",
       "    }\n",
       "\n",
       "    .dataframe thead th {\n",
       "        text-align: right;\n",
       "    }\n",
       "</style>\n",
       "<table border=\"1\" class=\"dataframe\">\n",
       "  <thead>\n",
       "    <tr style=\"text-align: right;\">\n",
       "      <th></th>\n",
       "      <th>address</th>\n",
       "      <th>agent_url</th>\n",
       "      <th>price</th>\n",
       "      <th>type</th>\n",
       "      <th>url</th>\n",
       "      <th>postcode</th>\n",
       "      <th>number_bedrooms</th>\n",
       "      <th>search_date</th>\n",
       "    </tr>\n",
       "  </thead>\n",
       "  <tbody>\n",
       "    <tr>\n",
       "      <th>0</th>\n",
       "      <td>Strata, 8 Walworth Road, Elephant &amp; Castle, Lo...</td>\n",
       "      <td>http://www.rightmove.co.uk/estate-agents/agent...</td>\n",
       "      <td>595000</td>\n",
       "      <td>1 bedroom flat for sale</td>\n",
       "      <td>http://www.rightmove.co.uk/property-for-sale/p...</td>\n",
       "      <td>SE1</td>\n",
       "      <td>1</td>\n",
       "      <td>2018-01-02 21:12:40.323637</td>\n",
       "    </tr>\n",
       "    <tr>\n",
       "      <th>1</th>\n",
       "      <td>One Hyde Park, Knightsbridge</td>\n",
       "      <td>http://www.rightmove.co.uk/estate-agents/agent...</td>\n",
       "      <td>25000000</td>\n",
       "      <td>3 bedroom apartment for sale</td>\n",
       "      <td>http://www.rightmove.co.uk/property-for-sale/p...</td>\n",
       "      <td>NaN</td>\n",
       "      <td>3</td>\n",
       "      <td>2018-01-02 21:12:40.323637</td>\n",
       "    </tr>\n",
       "    <tr>\n",
       "      <th>2</th>\n",
       "      <td>Cambridge Gate, London</td>\n",
       "      <td>http://www.rightmove.co.uk/estate-agents/agent...</td>\n",
       "      <td>7999950</td>\n",
       "      <td>5 bedroom flat for sale</td>\n",
       "      <td>http://www.rightmove.co.uk/property-for-sale/p...</td>\n",
       "      <td>NaN</td>\n",
       "      <td>5</td>\n",
       "      <td>2018-01-02 21:12:40.323637</td>\n",
       "    </tr>\n",
       "    <tr>\n",
       "      <th>3</th>\n",
       "      <td>Eardley Crescent, Earls Court, London</td>\n",
       "      <td>http://www.rightmove.co.uk/estate-agents/agent...</td>\n",
       "      <td>4750000</td>\n",
       "      <td>17 bedroom property for sale</td>\n",
       "      <td>http://www.rightmove.co.uk/property-for-sale/p...</td>\n",
       "      <td>NaN</td>\n",
       "      <td>17</td>\n",
       "      <td>2018-01-02 21:12:40.323637</td>\n",
       "    </tr>\n",
       "    <tr>\n",
       "      <th>4</th>\n",
       "      <td>Portland Place, Marylebone, W1B</td>\n",
       "      <td>http://www.rightmove.co.uk/estate-agents/agent...</td>\n",
       "      <td>3800000</td>\n",
       "      <td>3 bedroom flat for sale</td>\n",
       "      <td>http://www.rightmove.co.uk/property-for-sale/p...</td>\n",
       "      <td>W1B</td>\n",
       "      <td>3</td>\n",
       "      <td>2018-01-02 21:12:40.323637</td>\n",
       "    </tr>\n",
       "  </tbody>\n",
       "</table>\n",
       "</div>"
      ],
      "text/plain": [
       "                                             address  \\\n",
       "0  Strata, 8 Walworth Road, Elephant & Castle, Lo...   \n",
       "1                       One Hyde Park, Knightsbridge   \n",
       "2                             Cambridge Gate, London   \n",
       "3              Eardley Crescent, Earls Court, London   \n",
       "4                    Portland Place, Marylebone, W1B   \n",
       "\n",
       "                                           agent_url     price  \\\n",
       "0  http://www.rightmove.co.uk/estate-agents/agent...    595000   \n",
       "1  http://www.rightmove.co.uk/estate-agents/agent...  25000000   \n",
       "2  http://www.rightmove.co.uk/estate-agents/agent...   7999950   \n",
       "3  http://www.rightmove.co.uk/estate-agents/agent...   4750000   \n",
       "4  http://www.rightmove.co.uk/estate-agents/agent...   3800000   \n",
       "\n",
       "                           type  \\\n",
       "0       1 bedroom flat for sale   \n",
       "1  3 bedroom apartment for sale   \n",
       "2       5 bedroom flat for sale   \n",
       "3  17 bedroom property for sale   \n",
       "4       3 bedroom flat for sale   \n",
       "\n",
       "                                                 url postcode number_bedrooms  \\\n",
       "0  http://www.rightmove.co.uk/property-for-sale/p...      SE1               1   \n",
       "1  http://www.rightmove.co.uk/property-for-sale/p...      NaN               3   \n",
       "2  http://www.rightmove.co.uk/property-for-sale/p...      NaN               5   \n",
       "3  http://www.rightmove.co.uk/property-for-sale/p...      NaN              17   \n",
       "4  http://www.rightmove.co.uk/property-for-sale/p...      W1B               3   \n",
       "\n",
       "                 search_date  \n",
       "0 2018-01-02 21:12:40.323637  \n",
       "1 2018-01-02 21:12:40.323637  \n",
       "2 2018-01-02 21:12:40.323637  \n",
       "3 2018-01-02 21:12:40.323637  \n",
       "4 2018-01-02 21:12:40.323637  "
      ]
     },
     "execution_count": 6,
     "metadata": {},
     "output_type": "execute_result"
    }
   ],
   "source": [
    "# The .get_results() method returns all listings in a pandas dataframe.\n",
    "sale_results = sale_object.get_results()\n",
    "sale_results.head()"
   ]
  },
  {
   "cell_type": "markdown",
   "metadata": {},
   "source": [
    "### Example scraping properties for rent\n",
    "\n",
    "URL returned from a same criteria as above, except Property for RENT instead of for sale:"
   ]
  },
  {
   "cell_type": "code",
   "execution_count": 7,
   "metadata": {},
   "outputs": [],
   "source": [
    "rent_url = 'http://www.rightmove.co.uk/property-to-rent/find.html?searchType=RENT\\\n",
    "&locationIdentifier=REGION%5E94346&insId=3\\\n",
    "&radius=3.0\\\n",
    "&minPrice=&maxPrice=\\\n",
    "&minBedrooms=&maxBedrooms=\\\n",
    "&displayPropertyType=\\\n",
    "&maxDaysSinceAdded=7\\\n",
    "&sortByPriceDescending=\\\n",
    "&_includeLetAgreed=on\\\n",
    "&primaryDisplayPropertyType=\\\n",
    "&secondaryDisplayPropertyType=\\\n",
    "&oldDisplayPropertyType=\\\n",
    "&oldPrimaryDisplayPropertyType=\\\n",
    "&letType=\\\n",
    "&letFurnishType=\\\n",
    "&houseFlatShare=false'"
   ]
  },
  {
   "cell_type": "code",
   "execution_count": 8,
   "metadata": {},
   "outputs": [
    {
     "data": {
      "text/plain": [
       "'RENT'"
      ]
     },
     "execution_count": 8,
     "metadata": {},
     "output_type": "execute_result"
    }
   ],
   "source": [
    "# Create the instance of the class on the search URL.\n",
    "rent_object = rightmove_data(rent_url)\n",
    "\n",
    "# The .rent_or_sale attribute tells you what type of properties the search URL is for.\n",
    "rent_object.rent_or_sale"
   ]
  },
  {
   "cell_type": "code",
   "execution_count": 9,
   "metadata": {},
   "outputs": [
    {
     "data": {
      "text/plain": [
       "837"
      ]
     },
     "execution_count": 9,
     "metadata": {},
     "output_type": "execute_result"
    }
   ],
   "source": [
    "# The .results_count attribute returns the number of search results returned by the URL.\n",
    "rent_object.results_count"
   ]
  },
  {
   "cell_type": "code",
   "execution_count": 10,
   "metadata": {},
   "outputs": [
    {
     "data": {
      "text/plain": [
       "35"
      ]
     },
     "execution_count": 10,
     "metadata": {},
     "output_type": "execute_result"
    }
   ],
   "source": [
    "# The .result_pages_count attribute returns the number of search pages returned by the URL.\n",
    "# Note that the rightmove website limits the number of results pages to a maximum of 42\n",
    "rent_object.result_pages_count"
   ]
  },
  {
   "cell_type": "code",
   "execution_count": 11,
   "metadata": {},
   "outputs": [
    {
     "data": {
      "text/html": [
       "<div>\n",
       "<style scoped>\n",
       "    .dataframe tbody tr th:only-of-type {\n",
       "        vertical-align: middle;\n",
       "    }\n",
       "\n",
       "    .dataframe tbody tr th {\n",
       "        vertical-align: top;\n",
       "    }\n",
       "\n",
       "    .dataframe thead th {\n",
       "        text-align: right;\n",
       "    }\n",
       "</style>\n",
       "<table border=\"1\" class=\"dataframe\">\n",
       "  <thead>\n",
       "    <tr style=\"text-align: right;\">\n",
       "      <th></th>\n",
       "      <th>address</th>\n",
       "      <th>agent_url</th>\n",
       "      <th>price</th>\n",
       "      <th>type</th>\n",
       "      <th>url</th>\n",
       "      <th>postcode</th>\n",
       "      <th>number_bedrooms</th>\n",
       "      <th>search_date</th>\n",
       "    </tr>\n",
       "  </thead>\n",
       "  <tbody>\n",
       "    <tr>\n",
       "      <th>0</th>\n",
       "      <td>Eagle Heights, SW11</td>\n",
       "      <td>http://www.rightmove.co.uk/estate-agents/agent...</td>\n",
       "      <td>1450</td>\n",
       "      <td>1 bedroom flat</td>\n",
       "      <td>http://www.rightmove.co.uk/property-to-rent/pr...</td>\n",
       "      <td>SW11</td>\n",
       "      <td>1</td>\n",
       "      <td>2018-01-02 21:14:13.945694</td>\n",
       "    </tr>\n",
       "    <tr>\n",
       "      <th>1</th>\n",
       "      <td>Queens Gardens, Bayswater, W2</td>\n",
       "      <td>http://www.rightmove.co.uk/estate-agents/agent...</td>\n",
       "      <td>2384</td>\n",
       "      <td>1 bedroom flat</td>\n",
       "      <td>http://www.rightmove.co.uk/property-to-rent/pr...</td>\n",
       "      <td>W2</td>\n",
       "      <td>1</td>\n",
       "      <td>2018-01-02 21:14:13.945694</td>\n",
       "    </tr>\n",
       "    <tr>\n",
       "      <th>2</th>\n",
       "      <td>Queens Gardens, Bayswater, W2</td>\n",
       "      <td>http://www.rightmove.co.uk/estate-agents/agent...</td>\n",
       "      <td>2579</td>\n",
       "      <td>2 bedroom flat</td>\n",
       "      <td>http://www.rightmove.co.uk/property-to-rent/pr...</td>\n",
       "      <td>W2</td>\n",
       "      <td>2</td>\n",
       "      <td>2018-01-02 21:14:13.945694</td>\n",
       "    </tr>\n",
       "    <tr>\n",
       "      <th>3</th>\n",
       "      <td>Nightingale Lane, Between the Commons, SW12</td>\n",
       "      <td>http://www.rightmove.co.uk/estate-agents/agent...</td>\n",
       "      <td>2709</td>\n",
       "      <td>3 bedroom flat</td>\n",
       "      <td>http://www.rightmove.co.uk/property-to-rent/pr...</td>\n",
       "      <td>SW12</td>\n",
       "      <td>3</td>\n",
       "      <td>2018-01-02 21:14:13.945694</td>\n",
       "    </tr>\n",
       "    <tr>\n",
       "      <th>4</th>\n",
       "      <td>Nightingale Lane, Between the Commons, SW12</td>\n",
       "      <td>http://www.rightmove.co.uk/estate-agents/agent...</td>\n",
       "      <td>3879</td>\n",
       "      <td>3 bedroom flat</td>\n",
       "      <td>http://www.rightmove.co.uk/property-to-rent/pr...</td>\n",
       "      <td>SW12</td>\n",
       "      <td>3</td>\n",
       "      <td>2018-01-02 21:14:13.945694</td>\n",
       "    </tr>\n",
       "  </tbody>\n",
       "</table>\n",
       "</div>"
      ],
      "text/plain": [
       "                                       address  \\\n",
       "0                          Eagle Heights, SW11   \n",
       "1                Queens Gardens, Bayswater, W2   \n",
       "2                Queens Gardens, Bayswater, W2   \n",
       "3  Nightingale Lane, Between the Commons, SW12   \n",
       "4  Nightingale Lane, Between the Commons, SW12   \n",
       "\n",
       "                                           agent_url  price            type  \\\n",
       "0  http://www.rightmove.co.uk/estate-agents/agent...   1450  1 bedroom flat   \n",
       "1  http://www.rightmove.co.uk/estate-agents/agent...   2384  1 bedroom flat   \n",
       "2  http://www.rightmove.co.uk/estate-agents/agent...   2579  2 bedroom flat   \n",
       "3  http://www.rightmove.co.uk/estate-agents/agent...   2709  3 bedroom flat   \n",
       "4  http://www.rightmove.co.uk/estate-agents/agent...   3879  3 bedroom flat   \n",
       "\n",
       "                                                 url postcode number_bedrooms  \\\n",
       "0  http://www.rightmove.co.uk/property-to-rent/pr...     SW11               1   \n",
       "1  http://www.rightmove.co.uk/property-to-rent/pr...       W2               1   \n",
       "2  http://www.rightmove.co.uk/property-to-rent/pr...       W2               2   \n",
       "3  http://www.rightmove.co.uk/property-to-rent/pr...     SW12               3   \n",
       "4  http://www.rightmove.co.uk/property-to-rent/pr...     SW12               3   \n",
       "\n",
       "                 search_date  \n",
       "0 2018-01-02 21:14:13.945694  \n",
       "1 2018-01-02 21:14:13.945694  \n",
       "2 2018-01-02 21:14:13.945694  \n",
       "3 2018-01-02 21:14:13.945694  \n",
       "4 2018-01-02 21:14:13.945694  "
      ]
     },
     "execution_count": 11,
     "metadata": {},
     "output_type": "execute_result"
    }
   ],
   "source": [
    "# The .get_results() method returns all listings in a pandas dataframe.\n",
    "rent_results = rent_object.get_results()\n",
    "rent_results.head()"
   ]
  }
 ],
 "metadata": {
  "kernelspec": {
   "display_name": "Python 3",
   "language": "python",
   "name": "python3"
  },
  "language_info": {
   "codemirror_mode": {
    "name": "ipython",
    "version": 3
   },
   "file_extension": ".py",
   "mimetype": "text/x-python",
   "name": "python",
   "nbconvert_exporter": "python",
   "pygments_lexer": "ipython3",
   "version": "3.6.2"
  }
 },
 "nbformat": 4,
 "nbformat_minor": 1
}
