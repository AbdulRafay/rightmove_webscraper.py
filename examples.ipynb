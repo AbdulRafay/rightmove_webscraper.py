{
 "cells": [
  {
   "cell_type": "markdown",
   "metadata": {},
   "source": [
    "## Python class to scrape property listings from the <a href=\"http://www.rightmove.co.uk\">rightmove</a> website"
   ]
  },
  {
   "cell_type": "markdown",
   "metadata": {},
   "source": [
    "#### Properties for SALE example\n",
    "\n",
    "URL returned from searching with the following criteria:\n",
    "\n",
    "* Property for SALE\n",
    "* Area = \"Battersea Power Station\"\n",
    "* Radius = within 3 miles\n",
    "* Price range, bedrooms = no min or max\n",
    "* Property type = Any\n",
    "* Added to site within =  last 7 days"
   ]
  },
  {
   "cell_type": "code",
   "execution_count": 2,
   "metadata": {
    "collapsed": true
   },
   "outputs": [],
   "source": [
    "sale_url = 'http://www.rightmove.co.uk/property-for-sale/find.html?searchType=SALE\\\n",
    "&locationIdentifier=REGION%5E94346&insId=1\\\n",
    "&radius=3.0\\\n",
    "&minPrice=&maxPrice=\\\n",
    "&minBedrooms=&maxBedrooms=\\\n",
    "&displayPropertyType=\\\n",
    "&maxDaysSinceAdded=7\\\n",
    "&_includeSSTC=on\\\n",
    "&sortByPriceDescending=\\\n",
    "&primaryDisplayPropertyType=\\\n",
    "&secondaryDisplayPropertyType=\\\n",
    "&oldDisplayPropertyType=\\\n",
    "&oldPrimaryDisplayPropertyType=\\\n",
    "&newHome=\\\n",
    "&auction=false'"
   ]
  },
  {
   "cell_type": "code",
   "execution_count": 3,
   "metadata": {},
   "outputs": [
    {
     "data": {
      "text/plain": [
       "'SALE'"
      ]
     },
     "execution_count": 3,
     "metadata": {},
     "output_type": "execute_result"
    }
   ],
   "source": [
    "# Create the instance of the class on the search URL.\n",
    "sale_object = rightmove_data(sale_url)\n",
    "\n",
    "# The .rent_or_sale() method tells you what type of properties the search URL is for.\n",
    "# print('RENT or SALE:')\n",
    "sale_object.rent_or_sale()"
   ]
  },
  {
   "cell_type": "code",
   "execution_count": 4,
   "metadata": {},
   "outputs": [
    {
     "data": {
      "text/plain": [
       "1281"
      ]
     },
     "execution_count": 4,
     "metadata": {},
     "output_type": "execute_result"
    }
   ],
   "source": [
    "# The .results_count() method returns the number of search results returned by the URL.\n",
    "sale_object.results_count()"
   ]
  },
  {
   "cell_type": "code",
   "execution_count": 5,
   "metadata": {},
   "outputs": [
    {
     "data": {
      "text/plain": [
       "42"
      ]
     },
     "execution_count": 5,
     "metadata": {},
     "output_type": "execute_result"
    }
   ],
   "source": [
    "# The .result_pages_count() method returns the number of search pages returned by the URL.\n",
    "# Note that the rightmove website limits the number of results pages to a maximum of 42\n",
    "sale_object.result_pages_count()"
   ]
  },
  {
   "cell_type": "code",
   "execution_count": 6,
   "metadata": {},
   "outputs": [
    {
     "data": {
      "text/html": [
       "<div>\n",
       "<style>\n",
       "    .dataframe thead tr:only-child th {\n",
       "        text-align: right;\n",
       "    }\n",
       "\n",
       "    .dataframe thead th {\n",
       "        text-align: left;\n",
       "    }\n",
       "\n",
       "    .dataframe tbody tr th {\n",
       "        vertical-align: top;\n",
       "    }\n",
       "</style>\n",
       "<table border=\"1\" class=\"dataframe\">\n",
       "  <thead>\n",
       "    <tr style=\"text-align: right;\">\n",
       "      <th></th>\n",
       "      <th>address</th>\n",
       "      <th>price</th>\n",
       "      <th>type</th>\n",
       "      <th>url</th>\n",
       "      <th>postcode</th>\n",
       "      <th>number_bedrooms</th>\n",
       "      <th>search_date</th>\n",
       "    </tr>\n",
       "  </thead>\n",
       "  <tbody>\n",
       "    <tr>\n",
       "      <th>0</th>\n",
       "      <td>Earls Court Square, Earls Court, SW5</td>\n",
       "      <td>499950.0</td>\n",
       "      <td>\\n            Studio flat for sale</td>\n",
       "      <td>http://www.rightmove.co.uk/property-for-sale/p...</td>\n",
       "      <td>SW5</td>\n",
       "      <td>0</td>\n",
       "      <td>17/07/2017</td>\n",
       "    </tr>\n",
       "    <tr>\n",
       "      <th>1</th>\n",
       "      <td>Wilton Mews, Belgravia, London, SW1X</td>\n",
       "      <td>28000000.0</td>\n",
       "      <td>\\n            6 bedroom end of terrace house f...</td>\n",
       "      <td>http://www.rightmove.co.uk/property-for-sale/p...</td>\n",
       "      <td>SW1X</td>\n",
       "      <td>6</td>\n",
       "      <td>17/07/2017</td>\n",
       "    </tr>\n",
       "    <tr>\n",
       "      <th>2</th>\n",
       "      <td>Rutland Gate, Knightsbridge, London, SW7</td>\n",
       "      <td>12950000.0</td>\n",
       "      <td>\\n            6 bedroom house for sale</td>\n",
       "      <td>http://www.rightmove.co.uk/property-for-sale/p...</td>\n",
       "      <td>SW7</td>\n",
       "      <td>6</td>\n",
       "      <td>17/07/2017</td>\n",
       "    </tr>\n",
       "    <tr>\n",
       "      <th>3</th>\n",
       "      <td>Rutland Gate, London</td>\n",
       "      <td>12950000.0</td>\n",
       "      <td>\\n            6 bedroom house for sale</td>\n",
       "      <td>http://www.rightmove.co.uk/property-for-sale/p...</td>\n",
       "      <td>NaN</td>\n",
       "      <td>6</td>\n",
       "      <td>17/07/2017</td>\n",
       "    </tr>\n",
       "    <tr>\n",
       "      <th>4</th>\n",
       "      <td>Cadogan Gardens, Chelsea, London, SW3</td>\n",
       "      <td>12500000.0</td>\n",
       "      <td>\\n            6 bedroom terraced house for sal...</td>\n",
       "      <td>http://www.rightmove.co.uk/property-for-sale/p...</td>\n",
       "      <td>SW3</td>\n",
       "      <td>6</td>\n",
       "      <td>17/07/2017</td>\n",
       "    </tr>\n",
       "  </tbody>\n",
       "</table>\n",
       "</div>"
      ],
      "text/plain": [
       "                                    address       price  \\\n",
       "0      Earls Court Square, Earls Court, SW5    499950.0   \n",
       "1      Wilton Mews, Belgravia, London, SW1X  28000000.0   \n",
       "2  Rutland Gate, Knightsbridge, London, SW7  12950000.0   \n",
       "3                      Rutland Gate, London  12950000.0   \n",
       "4     Cadogan Gardens, Chelsea, London, SW3  12500000.0   \n",
       "\n",
       "                                                type  \\\n",
       "0         \\n            Studio flat for sale           \n",
       "1  \\n            6 bedroom end of terrace house f...   \n",
       "2     \\n            6 bedroom house for sale           \n",
       "3     \\n            6 bedroom house for sale           \n",
       "4  \\n            6 bedroom terraced house for sal...   \n",
       "\n",
       "                                                 url postcode number_bedrooms  \\\n",
       "0  http://www.rightmove.co.uk/property-for-sale/p...      SW5               0   \n",
       "1  http://www.rightmove.co.uk/property-for-sale/p...     SW1X               6   \n",
       "2  http://www.rightmove.co.uk/property-for-sale/p...      SW7               6   \n",
       "3  http://www.rightmove.co.uk/property-for-sale/p...      NaN               6   \n",
       "4  http://www.rightmove.co.uk/property-for-sale/p...      SW3               6   \n",
       "\n",
       "  search_date  \n",
       "0  17/07/2017  \n",
       "1  17/07/2017  \n",
       "2  17/07/2017  \n",
       "3  17/07/2017  \n",
       "4  17/07/2017  "
      ]
     },
     "execution_count": 6,
     "metadata": {},
     "output_type": "execute_result"
    }
   ],
   "source": [
    "# The .get_results() method returns all listings in the format of a pandas dataframe.\n",
    "sale_results = sale_object.get_results()\n",
    "sale_results.head()"
   ]
  },
  {
   "cell_type": "markdown",
   "metadata": {},
   "source": [
    "#### Properties for RENT example\n",
    "\n",
    "URL returned from a same criteria as above, except Property for RENT instead of for sale:"
   ]
  },
  {
   "cell_type": "code",
   "execution_count": 7,
   "metadata": {
    "collapsed": true
   },
   "outputs": [],
   "source": [
    "rent_url = 'http://www.rightmove.co.uk/property-to-rent/find.html?searchType=RENT\\\n",
    "&locationIdentifier=REGION%5E94346&insId=3\\\n",
    "&radius=3.0\\\n",
    "&minPrice=&maxPrice=\\\n",
    "&minBedrooms=&maxBedrooms=\\\n",
    "&displayPropertyType=\\\n",
    "&maxDaysSinceAdded=7\\\n",
    "&sortByPriceDescending=\\\n",
    "&_includeLetAgreed=on\\\n",
    "&primaryDisplayPropertyType=\\\n",
    "&secondaryDisplayPropertyType=\\\n",
    "&oldDisplayPropertyType=\\\n",
    "&oldPrimaryDisplayPropertyType=\\\n",
    "&letType=\\\n",
    "&letFurnishType=\\\n",
    "&houseFlatShare=false'"
   ]
  },
  {
   "cell_type": "code",
   "execution_count": 8,
   "metadata": {},
   "outputs": [
    {
     "data": {
      "text/plain": [
       "'RENT'"
      ]
     },
     "execution_count": 8,
     "metadata": {},
     "output_type": "execute_result"
    }
   ],
   "source": [
    "# Create the instance of the class on the search URL.\n",
    "rent_object = rightmove_data(rent_url)\n",
    "\n",
    "# The .rent_or_sale() method tells you what type of properties the search URL is for.\n",
    "# print('RENT or SALE:')\n",
    "rent_object.rent_or_sale()"
   ]
  },
  {
   "cell_type": "code",
   "execution_count": 9,
   "metadata": {},
   "outputs": [
    {
     "data": {
      "text/plain": [
       "4221"
      ]
     },
     "execution_count": 9,
     "metadata": {},
     "output_type": "execute_result"
    }
   ],
   "source": [
    "# The .results_count() method returns the number of search results returned by the URL.\n",
    "rent_object.results_count()"
   ]
  },
  {
   "cell_type": "code",
   "execution_count": 10,
   "metadata": {},
   "outputs": [
    {
     "data": {
      "text/plain": [
       "42"
      ]
     },
     "execution_count": 10,
     "metadata": {},
     "output_type": "execute_result"
    }
   ],
   "source": [
    "# The .result_pages_count() method returns the number of search pages returned by the URL.\n",
    "# Note that the rightmove website limits the number of results pages to a maximum of 42\n",
    "rent_object.result_pages_count()"
   ]
  },
  {
   "cell_type": "code",
   "execution_count": 11,
   "metadata": {},
   "outputs": [
    {
     "data": {
      "text/html": [
       "<div>\n",
       "<style>\n",
       "    .dataframe thead tr:only-child th {\n",
       "        text-align: right;\n",
       "    }\n",
       "\n",
       "    .dataframe thead th {\n",
       "        text-align: left;\n",
       "    }\n",
       "\n",
       "    .dataframe tbody tr th {\n",
       "        vertical-align: top;\n",
       "    }\n",
       "</style>\n",
       "<table border=\"1\" class=\"dataframe\">\n",
       "  <thead>\n",
       "    <tr style=\"text-align: right;\">\n",
       "      <th></th>\n",
       "      <th>address</th>\n",
       "      <th>price</th>\n",
       "      <th>type</th>\n",
       "      <th>url</th>\n",
       "      <th>postcode</th>\n",
       "      <th>number_bedrooms</th>\n",
       "      <th>search_date</th>\n",
       "    </tr>\n",
       "  </thead>\n",
       "  <tbody>\n",
       "    <tr>\n",
       "      <th>0</th>\n",
       "      <td>Eastfields Avenue, SW18</td>\n",
       "      <td>3103</td>\n",
       "      <td>\\n            3 bedroom flat</td>\n",
       "      <td>http://www.rightmove.co.uk/property-to-rent/pr...</td>\n",
       "      <td>SW18</td>\n",
       "      <td>3</td>\n",
       "      <td>17/07/2017</td>\n",
       "    </tr>\n",
       "    <tr>\n",
       "      <th>1</th>\n",
       "      <td>Cromwell Road, Kensington, London, SW5</td>\n",
       "      <td>1300</td>\n",
       "      <td>\\n            Studio apartment</td>\n",
       "      <td>http://www.rightmove.co.uk/property-to-rent/pr...</td>\n",
       "      <td>SW5</td>\n",
       "      <td>0</td>\n",
       "      <td>17/07/2017</td>\n",
       "    </tr>\n",
       "    <tr>\n",
       "      <th>2</th>\n",
       "      <td>East Dulwich Grove,  East Dulwich, SE22</td>\n",
       "      <td>1250</td>\n",
       "      <td>\\n            1 bedroom apartment</td>\n",
       "      <td>http://www.rightmove.co.uk/property-to-rent/pr...</td>\n",
       "      <td>SE22</td>\n",
       "      <td>1</td>\n",
       "      <td>17/07/2017</td>\n",
       "    </tr>\n",
       "    <tr>\n",
       "      <th>3</th>\n",
       "      <td>Belgrave Road, Pimlico, SW1V</td>\n",
       "      <td>1127</td>\n",
       "      <td>\\n            Studio flat</td>\n",
       "      <td>http://www.rightmove.co.uk/property-to-rent/pr...</td>\n",
       "      <td>SW1V</td>\n",
       "      <td>0</td>\n",
       "      <td>17/07/2017</td>\n",
       "    </tr>\n",
       "    <tr>\n",
       "      <th>4</th>\n",
       "      <td>Capital Building, Embassy Gardens, SW8</td>\n",
       "      <td>3033</td>\n",
       "      <td>\\n            2 bedroom apartment</td>\n",
       "      <td>http://www.rightmove.co.uk/property-to-rent/pr...</td>\n",
       "      <td>SW8</td>\n",
       "      <td>2</td>\n",
       "      <td>17/07/2017</td>\n",
       "    </tr>\n",
       "  </tbody>\n",
       "</table>\n",
       "</div>"
      ],
      "text/plain": [
       "                                    address  price  \\\n",
       "0                   Eastfields Avenue, SW18   3103   \n",
       "1    Cromwell Road, Kensington, London, SW5   1300   \n",
       "2   East Dulwich Grove,  East Dulwich, SE22   1250   \n",
       "3              Belgrave Road, Pimlico, SW1V   1127   \n",
       "4    Capital Building, Embassy Gardens, SW8   3033   \n",
       "\n",
       "                                        type  \\\n",
       "0       \\n            3 bedroom flat           \n",
       "1     \\n            Studio apartment           \n",
       "2  \\n            1 bedroom apartment           \n",
       "3          \\n            Studio flat           \n",
       "4  \\n            2 bedroom apartment           \n",
       "\n",
       "                                                 url postcode number_bedrooms  \\\n",
       "0  http://www.rightmove.co.uk/property-to-rent/pr...     SW18               3   \n",
       "1  http://www.rightmove.co.uk/property-to-rent/pr...      SW5               0   \n",
       "2  http://www.rightmove.co.uk/property-to-rent/pr...     SE22               1   \n",
       "3  http://www.rightmove.co.uk/property-to-rent/pr...     SW1V               0   \n",
       "4  http://www.rightmove.co.uk/property-to-rent/pr...      SW8               2   \n",
       "\n",
       "  search_date  \n",
       "0  17/07/2017  \n",
       "1  17/07/2017  \n",
       "2  17/07/2017  \n",
       "3  17/07/2017  \n",
       "4  17/07/2017  "
      ]
     },
     "execution_count": 11,
     "metadata": {},
     "output_type": "execute_result"
    }
   ],
   "source": [
    "# The .get_results() method returns all listings in the format of a pandas dataframe.\n",
    "rent_results = rent_object.get_results()\n",
    "rent_results.head()"
   ]
  }
 ],
 "metadata": {
  "kernelspec": {
   "display_name": "Python 3",
   "language": "python",
   "name": "python3"
  },
  "language_info": {
   "codemirror_mode": {
    "name": "ipython",
    "version": 3
   },
   "file_extension": ".py",
   "mimetype": "text/x-python",
   "name": "python",
   "nbconvert_exporter": "python",
   "pygments_lexer": "ipython3",
   "version": "3.6.1"
  }
 },
 "nbformat": 4,
 "nbformat_minor": 1
}
