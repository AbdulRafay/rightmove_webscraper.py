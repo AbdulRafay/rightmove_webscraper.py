{
 "cells": [
  {
   "cell_type": "markdown",
   "metadata": {},
   "source": [
    "## Python class to scrape property listings from the <a href=\"http://www.rightmove.co.uk\">rightmove</a> website"
   ]
  },
  {
   "cell_type": "code",
   "execution_count": 1,
   "metadata": {
    "collapsed": true
   },
   "outputs": [],
   "source": [
    "from rightmove_webscraper import rightmove_data"
   ]
  },
  {
   "cell_type": "markdown",
   "metadata": {},
   "source": [
    "#### Example scraping properties for sale\n",
    "\n",
    "URL returned from searching with the following criteria:\n",
    "\n",
    "* Property for SALE\n",
    "* Area = \"Battersea Power Station\"\n",
    "* Radius = within 3 miles\n",
    "* Price range, bedrooms = no min or max\n",
    "* Property type = Any\n",
    "* Added to site within =  last 7 days"
   ]
  },
  {
   "cell_type": "code",
   "execution_count": 2,
   "metadata": {
    "collapsed": true
   },
   "outputs": [],
   "source": [
    "sale_url = \"http://www.rightmove.co.uk/property-for-sale/find.html?searchType=SALE\\\n",
    "&locationIdentifier=REGION%5E94346&insId=1\\\n",
    "&radius=3.0\\\n",
    "&minPrice=&maxPrice=\\\n",
    "&minBedrooms=&maxBedrooms=\\\n",
    "&displayPropertyType=\\\n",
    "&maxDaysSinceAdded=7\\\n",
    "&_includeSSTC=on\\\n",
    "&sortByPriceDescending=\\\n",
    "&primaryDisplayPropertyType=\\\n",
    "&secondaryDisplayPropertyType=\\\n",
    "&oldDisplayPropertyType=\\\n",
    "&oldPrimaryDisplayPropertyType=\\\n",
    "&newHome=\\\n",
    "&auction=false\""
   ]
  },
  {
   "cell_type": "code",
   "execution_count": 3,
   "metadata": {},
   "outputs": [
    {
     "data": {
      "text/plain": [
       "'SALE'"
      ]
     },
     "execution_count": 3,
     "metadata": {},
     "output_type": "execute_result"
    }
   ],
   "source": [
    "# Create the instance of the class on the search URL.\n",
    "sale_object = rightmove_data(sale_url)\n",
    "\n",
    "# The .rent_or_sale attribute tells you what type of properties the search URL is for.\n",
    "# print('RENT or SALE:')\n",
    "sale_object.rent_or_sale"
   ]
  },
  {
   "cell_type": "code",
   "execution_count": 4,
   "metadata": {},
   "outputs": [
    {
     "data": {
      "text/plain": [
       "1074"
      ]
     },
     "execution_count": 4,
     "metadata": {},
     "output_type": "execute_result"
    }
   ],
   "source": [
    "# The .results_count() method returns the number of search results returned by the URL.\n",
    "sale_object.results_count()"
   ]
  },
  {
   "cell_type": "code",
   "execution_count": 5,
   "metadata": {},
   "outputs": [
    {
     "data": {
      "text/plain": [
       "42"
      ]
     },
     "execution_count": 5,
     "metadata": {},
     "output_type": "execute_result"
    }
   ],
   "source": [
    "# The .result_pages_count() method returns the number of search pages returned by the URL.\n",
    "# Note that the rightmove website limits the number of results pages to a maximum of 42\n",
    "sale_object.result_pages_count()"
   ]
  },
  {
   "cell_type": "code",
   "execution_count": 6,
   "metadata": {},
   "outputs": [
    {
     "data": {
      "text/html": [
       "<div>\n",
       "<style>\n",
       "    .dataframe thead tr:only-child th {\n",
       "        text-align: right;\n",
       "    }\n",
       "\n",
       "    .dataframe thead th {\n",
       "        text-align: left;\n",
       "    }\n",
       "\n",
       "    .dataframe tbody tr th {\n",
       "        vertical-align: top;\n",
       "    }\n",
       "</style>\n",
       "<table border=\"1\" class=\"dataframe\">\n",
       "  <thead>\n",
       "    <tr style=\"text-align: right;\">\n",
       "      <th></th>\n",
       "      <th>address</th>\n",
       "      <th>price</th>\n",
       "      <th>type</th>\n",
       "      <th>url</th>\n",
       "      <th>postcode</th>\n",
       "      <th>number_bedrooms</th>\n",
       "      <th>search_date</th>\n",
       "    </tr>\n",
       "  </thead>\n",
       "  <tbody>\n",
       "    <tr>\n",
       "      <th>0</th>\n",
       "      <td>Ormond House, Medway Street, Westminster, Lond...</td>\n",
       "      <td>595000</td>\n",
       "      <td>1 bedroom flat for sale</td>\n",
       "      <td>http://www.rightmove.co.uk/property-for-sale/p...</td>\n",
       "      <td>SW1P</td>\n",
       "      <td>1</td>\n",
       "      <td>18/08/2017</td>\n",
       "    </tr>\n",
       "    <tr>\n",
       "      <th>1</th>\n",
       "      <td>Harley Gardens, London, SW10</td>\n",
       "      <td>18000000</td>\n",
       "      <td>6 bedroom terraced house for sale</td>\n",
       "      <td>http://www.rightmove.co.uk/property-for-sale/p...</td>\n",
       "      <td>SW10</td>\n",
       "      <td>6</td>\n",
       "      <td>18/08/2017</td>\n",
       "    </tr>\n",
       "    <tr>\n",
       "      <th>2</th>\n",
       "      <td>Bondway, SW8</td>\n",
       "      <td>10050000</td>\n",
       "      <td>3 bedroom apartment for sale</td>\n",
       "      <td>http://www.rightmove.co.uk/property-for-sale/p...</td>\n",
       "      <td>SW8</td>\n",
       "      <td>3</td>\n",
       "      <td>18/08/2017</td>\n",
       "    </tr>\n",
       "    <tr>\n",
       "      <th>3</th>\n",
       "      <td>Bondway, Nine Elms, SW8</td>\n",
       "      <td>10000000</td>\n",
       "      <td>3 bedroom penthouse for sale</td>\n",
       "      <td>http://www.rightmove.co.uk/property-for-sale/p...</td>\n",
       "      <td>SW8</td>\n",
       "      <td>3</td>\n",
       "      <td>18/08/2017</td>\n",
       "    </tr>\n",
       "    <tr>\n",
       "      <th>4</th>\n",
       "      <td>Bondway, SW8</td>\n",
       "      <td>10000000</td>\n",
       "      <td>3 bedroom apartment for sale</td>\n",
       "      <td>http://www.rightmove.co.uk/property-for-sale/p...</td>\n",
       "      <td>SW8</td>\n",
       "      <td>3</td>\n",
       "      <td>18/08/2017</td>\n",
       "    </tr>\n",
       "  </tbody>\n",
       "</table>\n",
       "</div>"
      ],
      "text/plain": [
       "                                             address     price  \\\n",
       "0  Ormond House, Medway Street, Westminster, Lond...    595000   \n",
       "1                       Harley Gardens, London, SW10  18000000   \n",
       "2                                       Bondway, SW8  10050000   \n",
       "3                            Bondway, Nine Elms, SW8  10000000   \n",
       "4                                       Bondway, SW8  10000000   \n",
       "\n",
       "                                type  \\\n",
       "0            1 bedroom flat for sale   \n",
       "1  6 bedroom terraced house for sale   \n",
       "2       3 bedroom apartment for sale   \n",
       "3       3 bedroom penthouse for sale   \n",
       "4       3 bedroom apartment for sale   \n",
       "\n",
       "                                                 url postcode number_bedrooms  \\\n",
       "0  http://www.rightmove.co.uk/property-for-sale/p...     SW1P               1   \n",
       "1  http://www.rightmove.co.uk/property-for-sale/p...     SW10               6   \n",
       "2  http://www.rightmove.co.uk/property-for-sale/p...      SW8               3   \n",
       "3  http://www.rightmove.co.uk/property-for-sale/p...      SW8               3   \n",
       "4  http://www.rightmove.co.uk/property-for-sale/p...      SW8               3   \n",
       "\n",
       "  search_date  \n",
       "0  18/08/2017  \n",
       "1  18/08/2017  \n",
       "2  18/08/2017  \n",
       "3  18/08/2017  \n",
       "4  18/08/2017  "
      ]
     },
     "execution_count": 6,
     "metadata": {},
     "output_type": "execute_result"
    }
   ],
   "source": [
    "# The .get_results() method returns all listings in a pandas dataframe.\n",
    "sale_results = sale_object.get_results()\n",
    "sale_results.head()"
   ]
  },
  {
   "cell_type": "markdown",
   "metadata": {},
   "source": [
    "#### Example scraping properties for rent\n",
    "\n",
    "URL returned from a same criteria as above, except Property for RENT instead of for sale:"
   ]
  },
  {
   "cell_type": "code",
   "execution_count": 7,
   "metadata": {
    "collapsed": true
   },
   "outputs": [],
   "source": [
    "rent_url = 'http://www.rightmove.co.uk/property-to-rent/find.html?searchType=RENT\\\n",
    "&locationIdentifier=REGION%5E94346&insId=3\\\n",
    "&radius=3.0\\\n",
    "&minPrice=&maxPrice=\\\n",
    "&minBedrooms=&maxBedrooms=\\\n",
    "&displayPropertyType=\\\n",
    "&maxDaysSinceAdded=7\\\n",
    "&sortByPriceDescending=\\\n",
    "&_includeLetAgreed=on\\\n",
    "&primaryDisplayPropertyType=\\\n",
    "&secondaryDisplayPropertyType=\\\n",
    "&oldDisplayPropertyType=\\\n",
    "&oldPrimaryDisplayPropertyType=\\\n",
    "&letType=\\\n",
    "&letFurnishType=\\\n",
    "&houseFlatShare=false'"
   ]
  },
  {
   "cell_type": "code",
   "execution_count": 8,
   "metadata": {},
   "outputs": [
    {
     "data": {
      "text/plain": [
       "'RENT'"
      ]
     },
     "execution_count": 8,
     "metadata": {},
     "output_type": "execute_result"
    }
   ],
   "source": [
    "# Create the instance of the class on the search URL.\n",
    "rent_object = rightmove_data(rent_url)\n",
    "\n",
    "# The .rent_or_sale attribute tells you what type of properties the search URL is for.\n",
    "# print('RENT or SALE:')\n",
    "rent_object.rent_or_sale"
   ]
  },
  {
   "cell_type": "code",
   "execution_count": 9,
   "metadata": {},
   "outputs": [
    {
     "data": {
      "text/plain": [
       "3989"
      ]
     },
     "execution_count": 9,
     "metadata": {},
     "output_type": "execute_result"
    }
   ],
   "source": [
    "# The .results_count() method returns the number of search results returned by the URL.\n",
    "rent_object.results_count()"
   ]
  },
  {
   "cell_type": "code",
   "execution_count": 10,
   "metadata": {},
   "outputs": [
    {
     "data": {
      "text/plain": [
       "42"
      ]
     },
     "execution_count": 10,
     "metadata": {},
     "output_type": "execute_result"
    }
   ],
   "source": [
    "# The .result_pages_count() method returns the number of search pages returned by the URL.\n",
    "# Note that the rightmove website limits the number of results pages to a maximum of 42\n",
    "rent_object.result_pages_count()"
   ]
  },
  {
   "cell_type": "code",
   "execution_count": 11,
   "metadata": {},
   "outputs": [
    {
     "data": {
      "text/html": [
       "<div>\n",
       "<style>\n",
       "    .dataframe thead tr:only-child th {\n",
       "        text-align: right;\n",
       "    }\n",
       "\n",
       "    .dataframe thead th {\n",
       "        text-align: left;\n",
       "    }\n",
       "\n",
       "    .dataframe tbody tr th {\n",
       "        vertical-align: top;\n",
       "    }\n",
       "</style>\n",
       "<table border=\"1\" class=\"dataframe\">\n",
       "  <thead>\n",
       "    <tr style=\"text-align: right;\">\n",
       "      <th></th>\n",
       "      <th>address</th>\n",
       "      <th>price</th>\n",
       "      <th>type</th>\n",
       "      <th>url</th>\n",
       "      <th>postcode</th>\n",
       "      <th>number_bedrooms</th>\n",
       "      <th>search_date</th>\n",
       "    </tr>\n",
       "  </thead>\n",
       "  <tbody>\n",
       "    <tr>\n",
       "      <th>0</th>\n",
       "      <td>Pembridge Gardens, London, W2</td>\n",
       "      <td>5200</td>\n",
       "      <td>2 bedroom flat</td>\n",
       "      <td>http://www.rightmove.co.uk/property-to-rent/pr...</td>\n",
       "      <td>W2</td>\n",
       "      <td>2</td>\n",
       "      <td>18/08/2017</td>\n",
       "    </tr>\n",
       "    <tr>\n",
       "      <th>1</th>\n",
       "      <td>Monument Street, Monument</td>\n",
       "      <td>2275</td>\n",
       "      <td>2 bedroom apartment</td>\n",
       "      <td>http://www.rightmove.co.uk/property-to-rent/pr...</td>\n",
       "      <td>NaN</td>\n",
       "      <td>2</td>\n",
       "      <td>18/08/2017</td>\n",
       "    </tr>\n",
       "    <tr>\n",
       "      <th>2</th>\n",
       "      <td>East Street, Elephant &amp; Castle, SE17</td>\n",
       "      <td>1248</td>\n",
       "      <td>1 bedroom flat</td>\n",
       "      <td>http://www.rightmove.co.uk/property-to-rent/pr...</td>\n",
       "      <td>SE17</td>\n",
       "      <td>1</td>\n",
       "      <td>18/08/2017</td>\n",
       "    </tr>\n",
       "    <tr>\n",
       "      <th>3</th>\n",
       "      <td>Fenwick Place, London</td>\n",
       "      <td>2400</td>\n",
       "      <td>3 bedroom apartment</td>\n",
       "      <td>http://www.rightmove.co.uk/property-to-rent/pr...</td>\n",
       "      <td>NaN</td>\n",
       "      <td>3</td>\n",
       "      <td>18/08/2017</td>\n",
       "    </tr>\n",
       "    <tr>\n",
       "      <th>4</th>\n",
       "      <td>Queen's Gate, SW7</td>\n",
       "      <td>2817</td>\n",
       "      <td>2 bedroom flat</td>\n",
       "      <td>http://www.rightmove.co.uk/property-to-rent/pr...</td>\n",
       "      <td>SW7</td>\n",
       "      <td>2</td>\n",
       "      <td>18/08/2017</td>\n",
       "    </tr>\n",
       "  </tbody>\n",
       "</table>\n",
       "</div>"
      ],
      "text/plain": [
       "                                address  price                 type  \\\n",
       "0         Pembridge Gardens, London, W2   5200       2 bedroom flat   \n",
       "1             Monument Street, Monument   2275  2 bedroom apartment   \n",
       "2  East Street, Elephant & Castle, SE17   1248       1 bedroom flat   \n",
       "3                 Fenwick Place, London   2400  3 bedroom apartment   \n",
       "4                     Queen's Gate, SW7   2817       2 bedroom flat   \n",
       "\n",
       "                                                 url postcode number_bedrooms  \\\n",
       "0  http://www.rightmove.co.uk/property-to-rent/pr...       W2               2   \n",
       "1  http://www.rightmove.co.uk/property-to-rent/pr...      NaN               2   \n",
       "2  http://www.rightmove.co.uk/property-to-rent/pr...     SE17               1   \n",
       "3  http://www.rightmove.co.uk/property-to-rent/pr...      NaN               3   \n",
       "4  http://www.rightmove.co.uk/property-to-rent/pr...      SW7               2   \n",
       "\n",
       "  search_date  \n",
       "0  18/08/2017  \n",
       "1  18/08/2017  \n",
       "2  18/08/2017  \n",
       "3  18/08/2017  \n",
       "4  18/08/2017  "
      ]
     },
     "execution_count": 11,
     "metadata": {},
     "output_type": "execute_result"
    }
   ],
   "source": [
    "# The .get_results() method returns all listings in a pandas dataframe.\n",
    "rent_results = rent_object.get_results()\n",
    "rent_results.head()"
   ]
  }
 ],
 "metadata": {
  "kernelspec": {
   "display_name": "Python 3",
   "language": "python",
   "name": "python3"
  },
  "language_info": {
   "codemirror_mode": {
    "name": "ipython",
    "version": 3
   },
   "file_extension": ".py",
   "mimetype": "text/x-python",
   "name": "python",
   "nbconvert_exporter": "python",
   "pygments_lexer": "ipython3",
   "version": "3.6.1"
  }
 },
 "nbformat": 4,
 "nbformat_minor": 1
}
